{
 "cells": [
  {
   "cell_type": "code",
   "execution_count": 2,
   "metadata": {},
   "outputs": [
    {
     "name": "stdout",
     "output_type": "stream",
     "text": [
      "(array([5]),)\n",
      "مقادیر پرت: [100]\n"
     ]
    }
   ],
   "source": [
    "import numpy as np\n",
    "from scipy.stats import zscore\n",
    "\n",
    "data = [10, 12, 14, 13, 12, 100, 11, 13, 12]  # ۱۰۰ یه مقدار پرته\n",
    "z_scores = np.abs(zscore(data))\n",
    "\n",
    "# انتخاب مقادیر پرت با Z-Score > 2\n",
    "outliers = np.where(z_scores > 2)\n",
    "print(outliers)\n",
    "print(\"مقادیر پرت:\", np.array(data)[outliers])"
   ]
  }
 ],
 "metadata": {
  "kernelspec": {
   "display_name": "venv3.12",
   "language": "python",
   "name": "python3"
  },
  "language_info": {
   "codemirror_mode": {
    "name": "ipython",
    "version": 3
   },
   "file_extension": ".py",
   "mimetype": "text/x-python",
   "name": "python",
   "nbconvert_exporter": "python",
   "pygments_lexer": "ipython3",
   "version": "3.12.5"
  }
 },
 "nbformat": 4,
 "nbformat_minor": 2
}
