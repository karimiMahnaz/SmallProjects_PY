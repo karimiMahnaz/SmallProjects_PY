{
 "cells": [
  {
   "cell_type": "code",
   "execution_count": 32,
   "id": "77f3349f",
   "metadata": {},
   "outputs": [],
   "source": [
    "import numpy as np"
   ]
  },
  {
   "cell_type": "code",
   "execution_count": 33,
   "id": "fe8850c4",
   "metadata": {},
   "outputs": [],
   "source": [
    "A = np.array([[-5,2],[-7,4]])\n",
    "l1 = -3"
   ]
  },
  {
   "cell_type": "code",
   "execution_count": 34,
   "id": "36eef5e9",
   "metadata": {},
   "outputs": [],
   "source": [
    "u = np.array([-1,-1])"
   ]
  },
  {
   "cell_type": "code",
   "execution_count": 35,
   "id": "570856f0",
   "metadata": {},
   "outputs": [
    {
     "data": {
      "text/plain": [
       "array([3, 3])"
      ]
     },
     "execution_count": 35,
     "metadata": {},
     "output_type": "execute_result"
    }
   ],
   "source": [
    "np.matmul(A,u)"
   ]
  },
  {
   "cell_type": "code",
   "execution_count": 36,
   "id": "2eaca424",
   "metadata": {},
   "outputs": [
    {
     "data": {
      "text/plain": [
       "array([3, 3])"
      ]
     },
     "execution_count": 36,
     "metadata": {},
     "output_type": "execute_result"
    }
   ],
   "source": [
    "l1 * u"
   ]
  },
  {
   "cell_type": "code",
   "execution_count": 37,
   "id": "60ad8d1a",
   "metadata": {},
   "outputs": [],
   "source": [
    "l2 = 2"
   ]
  },
  {
   "cell_type": "code",
   "execution_count": 38,
   "id": "bab86b5a",
   "metadata": {},
   "outputs": [],
   "source": [
    "v = np.array([1,3.5])"
   ]
  },
  {
   "cell_type": "code",
   "execution_count": 39,
   "id": "6194632d",
   "metadata": {},
   "outputs": [
    {
     "data": {
      "text/plain": [
       "array([2., 7.])"
      ]
     },
     "execution_count": 39,
     "metadata": {},
     "output_type": "execute_result"
    }
   ],
   "source": [
    "np.matmul(A,v)"
   ]
  },
  {
   "cell_type": "code",
   "execution_count": 40,
   "id": "c377c74d",
   "metadata": {},
   "outputs": [
    {
     "data": {
      "text/plain": [
       "array([2., 7.])"
      ]
     },
     "execution_count": 40,
     "metadata": {},
     "output_type": "execute_result"
    }
   ],
   "source": [
    "l2 * v"
   ]
  },
  {
   "cell_type": "code",
   "execution_count": 41,
   "id": "7424eaf0",
   "metadata": {},
   "outputs": [
    {
     "name": "stdout",
     "output_type": "stream",
     "text": [
      "[-3.  2.]\n",
      "[[-0.70710678 -0.27472113]\n",
      " [-0.70710678 -0.96152395]]\n"
     ]
    }
   ],
   "source": [
    "# A = uLu_inv\n",
    "\n",
    "L,U = np.linalg.eig(A)\n",
    "print(L)\n",
    "print(U)"
   ]
  },
  {
   "cell_type": "code",
   "execution_count": 42,
   "id": "d1d3e85b",
   "metadata": {},
   "outputs": [
    {
     "data": {
      "text/plain": [
       "array([[-1.97989899,  0.56568542],\n",
       "       [ 1.45602198, -1.45602198]])"
      ]
     },
     "execution_count": 42,
     "metadata": {},
     "output_type": "execute_result"
    }
   ],
   "source": [
    "U_inv = np.linalg.inv(U)\n",
    "U_inv"
   ]
  },
  {
   "cell_type": "code",
   "execution_count": 43,
   "id": "652dfbd2",
   "metadata": {},
   "outputs": [
    {
     "data": {
      "text/plain": [
       "array([[-3.,  0.],\n",
       "       [ 0.,  2.]])"
      ]
     },
     "execution_count": 43,
     "metadata": {},
     "output_type": "execute_result"
    }
   ],
   "source": [
    "# Matrix\n",
    "L_diag = np.diag(L)\n",
    "L_diag"
   ]
  },
  {
   "cell_type": "code",
   "execution_count": 44,
   "id": "9671cf17",
   "metadata": {},
   "outputs": [
    {
     "data": {
      "text/plain": [
       "array([[-5.,  2.],\n",
       "       [-7.,  4.]])"
      ]
     },
     "execution_count": 44,
     "metadata": {},
     "output_type": "execute_result"
    }
   ],
   "source": [
    "np.dot(U, np.dot(L_diag, U_inv))\n",
    "\n"
   ]
  },
  {
   "cell_type": "code",
   "execution_count": 45,
   "id": "f44616d7",
   "metadata": {},
   "outputs": [
    {
     "data": {
      "text/plain": [
       "array([[107, -26],\n",
       "       [ 91, -10]])"
      ]
     },
     "execution_count": 45,
     "metadata": {},
     "output_type": "execute_result"
    }
   ],
   "source": [
    "np.linalg.matrix_power(A,4)"
   ]
  },
  {
   "cell_type": "code",
   "execution_count": 46,
   "id": "09ab8cbf",
   "metadata": {},
   "outputs": [],
   "source": [
    "L_diag_4 = np.linalg.matrix_power(L_diag, 4)"
   ]
  },
  {
   "cell_type": "code",
   "execution_count": 47,
   "id": "f709d868",
   "metadata": {},
   "outputs": [
    {
     "data": {
      "text/plain": [
       "array([[107., -26.],\n",
       "       [ 91., -10.]])"
      ]
     },
     "execution_count": 47,
     "metadata": {},
     "output_type": "execute_result"
    }
   ],
   "source": [
    "np.dot(U, np.dot(L_diag_4, U_inv))"
   ]
  },
  {
   "cell_type": "code",
   "execution_count": 48,
   "id": "ce018e5f",
   "metadata": {},
   "outputs": [],
   "source": [
    "A = np.array([[-5,2],[-7,4], [10, -8]])"
   ]
  },
  {
   "cell_type": "code",
   "execution_count": 49,
   "id": "60c45964",
   "metadata": {},
   "outputs": [],
   "source": [
    "AT = A.T"
   ]
  },
  {
   "cell_type": "code",
   "execution_count": 50,
   "id": "f652b117",
   "metadata": {},
   "outputs": [
    {
     "data": {
      "text/plain": [
       "array([[-5,  2],\n",
       "       [-7,  4],\n",
       "       [10, -8]])"
      ]
     },
     "execution_count": 50,
     "metadata": {},
     "output_type": "execute_result"
    }
   ],
   "source": [
    "A"
   ]
  },
  {
   "cell_type": "code",
   "execution_count": 52,
   "id": "42153137",
   "metadata": {},
   "outputs": [
    {
     "data": {
      "text/plain": [
       "array([[ 174, -118],\n",
       "       [-118,   84]])"
      ]
     },
     "execution_count": 52,
     "metadata": {},
     "output_type": "execute_result"
    }
   ],
   "source": [
    "S = AT.dot(A)\n",
    "S"
   ]
  },
  {
   "cell_type": "code",
   "execution_count": 53,
   "id": "99624234",
   "metadata": {},
   "outputs": [
    {
     "data": {
      "text/plain": [
       "(array([255.2893503,   2.7106497]),\n",
       " array([[ 0.8235061 ,  0.56730742],\n",
       "        [-0.56730742,  0.8235061 ]]))"
      ]
     },
     "execution_count": 53,
     "metadata": {},
     "output_type": "execute_result"
    }
   ],
   "source": [
    "L, V = np.linalg.eig(S)\n",
    "L , V"
   ]
  },
  {
   "cell_type": "code",
   "execution_count": 54,
   "id": "bae18c7f",
   "metadata": {},
   "outputs": [],
   "source": [
    "s1, s2 = np.sqrt(L)"
   ]
  },
  {
   "cell_type": "code",
   "execution_count": 55,
   "id": "95c3e38b",
   "metadata": {},
   "outputs": [
    {
     "data": {
      "text/plain": [
       "(np.float64(15.977776763466897), np.float64(1.6464050828448247))"
      ]
     },
     "execution_count": 55,
     "metadata": {},
     "output_type": "execute_result"
    }
   ],
   "source": [
    "s1, s2"
   ]
  },
  {
   "cell_type": "code",
   "execution_count": 56,
   "id": "bda658ca",
   "metadata": {},
   "outputs": [],
   "source": [
    "import matplotlib.pyplot as plt"
   ]
  },
  {
   "cell_type": "code",
   "execution_count": 58,
   "id": "4bb10c4c",
   "metadata": {},
   "outputs": [],
   "source": [
    "v1 = V.T[0]\n",
    "v2 = V.T[1]\n",
    "\n",
    "start = np.array([0,0])"
   ]
  },
  {
   "cell_type": "code",
   "execution_count": 60,
   "id": "d6f0b9c5",
   "metadata": {},
   "outputs": [
    {
     "data": {
      "image/png": "[encoded data removed]",
      "text/plain": [
       "<Figure size 640x480 with 1 Axes>"
      ]
     },
     "metadata": {},
     "output_type": "display_data"
    }
   ],
   "source": [
    "ax = plt.axes()\n",
    "ax.set_xlim(-2,2)\n",
    "ax.set_ylim(-2,2)\n",
    "ax.grid(True)\n",
    "ax.quiver(*start,*v1,scale=1,angles = 'xy', scale_units = 'xy',color = 'red')\n",
    "ax.quiver(*start,*v2,scale=1,angles = 'xy', scale_units = 'xy',color = 'blue')\n",
    "\n",
    "plt.show()"
   ]
  },
  {
   "cell_type": "code",
   "execution_count": 61,
   "id": "00d1e0c9",
   "metadata": {},
   "outputs": [
    {
     "data": {
      "text/plain": [
       "np.float64(1.0)"
      ]
     },
     "execution_count": 61,
     "metadata": {},
     "output_type": "execute_result"
    }
   ],
   "source": [
    "np.linalg.norm(v1)"
   ]
  },
  {
   "cell_type": "code",
   "execution_count": 62,
   "id": "ef248d70",
   "metadata": {},
   "outputs": [
    {
     "data": {
      "text/plain": [
       "np.float64(1.0)"
      ]
     },
     "execution_count": 62,
     "metadata": {},
     "output_type": "execute_result"
    }
   ],
   "source": [
    "np.linalg.norm(v2)"
   ]
  },
  {
   "cell_type": "code",
   "execution_count": 63,
   "id": "bd2e322b",
   "metadata": {},
   "outputs": [
    {
     "data": {
      "text/plain": [
       "np.float64(0.0)"
      ]
     },
     "execution_count": 63,
     "metadata": {},
     "output_type": "execute_result"
    }
   ],
   "source": [
    "sum(v1 * v2)"
   ]
  },
  {
   "cell_type": "code",
   "execution_count": 64,
   "id": "23632d5f",
   "metadata": {},
   "outputs": [
    {
     "data": {
      "text/plain": [
       "np.float64(0.0)"
      ]
     },
     "execution_count": 64,
     "metadata": {},
     "output_type": "execute_result"
    }
   ],
   "source": [
    "np.inner(v1, v2)"
   ]
  },
  {
   "cell_type": "code",
   "execution_count": 68,
   "id": "d5a4ed68",
   "metadata": {},
   "outputs": [],
   "source": [
    "v1t = np.dot(A, v1)\n",
    "v2t = np.dot(A, v2)"
   ]
  },
  {
   "cell_type": "code",
   "execution_count": 69,
   "id": "aea9a8c4",
   "metadata": {},
   "outputs": [
    {
     "data": {
      "text/plain": [
       "(array([-5.25214532, -8.03377236, 12.77352033]),\n",
       " array([-1.18952491, -0.67712755, -0.91497457]))"
      ]
     },
     "execution_count": 69,
     "metadata": {},
     "output_type": "execute_result"
    }
   ],
   "source": [
    "v1t, v2t"
   ]
  },
  {
   "cell_type": "code",
   "execution_count": 72,
   "id": "3d498ead",
   "metadata": {},
   "outputs": [
    {
     "name": "stdout",
     "output_type": "stream",
     "text": [
      "15.977776763466897\n",
      "1.6464050828448233\n"
     ]
    }
   ],
   "source": [
    "print(np.linalg.norm(v1t))\n",
    "print(np.linalg.norm(v2t))"
   ]
  },
  {
   "cell_type": "code",
   "execution_count": 74,
   "id": "9cb351dd",
   "metadata": {},
   "outputs": [
    {
     "data": {
      "text/plain": [
       "np.float64(1.0)"
      ]
     },
     "execution_count": 74,
     "metadata": {},
     "output_type": "execute_result"
    }
   ],
   "source": [
    "v1t_u = v1t / np.linalg.norm(v1t)\n",
    "np.linalg.norm(v1t_u)"
   ]
  },
  {
   "cell_type": "code",
   "execution_count": 75,
   "id": "f6650145",
   "metadata": {},
   "outputs": [],
   "source": [
    "x = np.random.normal(loc = 0, scale= 1, size = 100)\n",
    "y = np.random.normal(loc = 0, scale= 5, size = 100)"
   ]
  },
  {
   "cell_type": "code",
   "execution_count": 77,
   "id": "6a847127",
   "metadata": {},
   "outputs": [],
   "source": [
    "x = np.sort(x)\n",
    "y = np.sort(y)"
   ]
  },
  {
   "cell_type": "code",
   "execution_count": 78,
   "id": "a9c345f7",
   "metadata": {},
   "outputs": [
    {
     "data": {
      "text/plain": [
       "<matplotlib.collections.PathCollection at 0x10d2caa20>"
      ]
     },
     "execution_count": 78,
     "metadata": {},
     "output_type": "execute_result"
    },
    {
     "data": {
      "image/png": "[encoded data removed]",
      "text/plain": [
       "<Figure size 640x480 with 1 Axes>"
      ]
     },
     "metadata": {},
     "output_type": "display_data"
    }
   ],
   "source": [
    "plt.scatter(x,y)"
   ]
  },
  {
   "cell_type": "code",
   "execution_count": 81,
   "id": "f48408a9",
   "metadata": {},
   "outputs": [
    {
     "data": {
      "text/plain": [
       "array([[-2.47979952e+00, -1.50480836e+01],\n",
       "       [-2.33003778e+00, -1.09400692e+01],\n",
       "       [-2.16213152e+00, -9.72669415e+00],\n",
       "       [-2.04652132e+00, -8.62349316e+00],\n",
       "       [-1.97589305e+00, -7.80388489e+00],\n",
       "       [-1.95187020e+00, -6.67653139e+00],\n",
       "       [-1.46250710e+00, -6.18867930e+00],\n",
       "       [-1.46144520e+00, -5.92758041e+00],\n",
       "       [-1.43136064e+00, -5.90347107e+00],\n",
       "       [-1.38199095e+00, -5.72956209e+00],\n",
       "       [-1.37728964e+00, -5.65826754e+00],\n",
       "       [-1.24360035e+00, -5.50737324e+00],\n",
       "       [-1.17211323e+00, -5.31777741e+00],\n",
       "       [-1.16009016e+00, -4.99207504e+00],\n",
       "       [-1.12804091e+00, -4.89939331e+00],\n",
       "       [-1.03155210e+00, -4.62782605e+00],\n",
       "       [-9.33871686e-01, -4.57882395e+00],\n",
       "       [-9.31648628e-01, -4.50907277e+00],\n",
       "       [-8.97231283e-01, -4.47516669e+00],\n",
       "       [-8.83338908e-01, -4.40074660e+00],\n",
       "       [-8.62411161e-01, -4.36286609e+00],\n",
       "       [-8.43164010e-01, -4.34336855e+00],\n",
       "       [-8.25877632e-01, -4.14219126e+00],\n",
       "       [-8.07829983e-01, -4.04059688e+00],\n",
       "       [-7.95459074e-01, -4.01373531e+00],\n",
       "       [-7.93684698e-01, -3.66098097e+00],\n",
       "       [-7.65035992e-01, -3.59718770e+00],\n",
       "       [-7.64723550e-01, -3.38050304e+00],\n",
       "       [-7.59088509e-01, -3.28531094e+00],\n",
       "       [-7.54522641e-01, -3.27587287e+00],\n",
       "       [-7.00548891e-01, -3.19610214e+00],\n",
       "       [-6.79891357e-01, -3.09397283e+00],\n",
       "       [-6.79049874e-01, -3.05852675e+00],\n",
       "       [-6.23718267e-01, -2.84146866e+00],\n",
       "       [-6.12552237e-01, -2.70905320e+00],\n",
       "       [-5.58534560e-01, -2.51172628e+00],\n",
       "       [-5.26068038e-01, -2.19953476e+00],\n",
       "       [-4.83148311e-01, -1.94705425e+00],\n",
       "       [-4.73037794e-01, -1.84031653e+00],\n",
       "       [-4.36324129e-01, -1.77529464e+00],\n",
       "       [-4.29634327e-01, -1.63681410e+00],\n",
       "       [-3.71729193e-01, -1.43860690e+00],\n",
       "       [-3.57253166e-01, -1.25004867e+00],\n",
       "       [-2.95169677e-01, -1.04941584e+00],\n",
       "       [-2.82791940e-01, -7.80320442e-01],\n",
       "       [-2.45210244e-01, -7.31773725e-01],\n",
       "       [-2.32342042e-01, -6.51002089e-01],\n",
       "       [-2.30868355e-01, -6.47743277e-01],\n",
       "       [-2.04967742e-01, -5.51961401e-01],\n",
       "       [-1.95264217e-01, -5.18538979e-01],\n",
       "       [-1.72160758e-01, -4.41723869e-01],\n",
       "       [-1.12454350e-01, -4.10996901e-01],\n",
       "       [-1.01371728e-01, -2.23444208e-01],\n",
       "       [-5.44208362e-02, -1.47034728e-01],\n",
       "       [-5.35415916e-02, -1.29990346e-01],\n",
       "       [-4.07166301e-02, -1.00604066e-01],\n",
       "       [ 8.01291452e-03,  4.71176567e-02],\n",
       "       [ 1.70681162e-02,  2.59389181e-01],\n",
       "       [ 2.30739393e-02,  3.69234963e-01],\n",
       "       [ 6.24606658e-02,  7.23063989e-01],\n",
       "       [ 6.82708719e-02,  1.02018933e+00],\n",
       "       [ 6.91692282e-02,  1.20248881e+00],\n",
       "       [ 7.73623955e-02,  1.47297067e+00],\n",
       "       [ 7.78537005e-02,  1.78871063e+00],\n",
       "       [ 8.20154458e-02,  1.79317903e+00],\n",
       "       [ 8.28730478e-02,  1.91455543e+00],\n",
       "       [ 9.03811102e-02,  2.01381000e+00],\n",
       "       [ 9.72207719e-02,  2.05157650e+00],\n",
       "       [ 1.66974134e-01,  2.14353489e+00],\n",
       "       [ 1.72398757e-01,  2.19414471e+00],\n",
       "       [ 1.73491558e-01,  2.26128253e+00],\n",
       "       [ 2.17849580e-01,  2.41233419e+00],\n",
       "       [ 2.55404041e-01,  2.48750893e+00],\n",
       "       [ 3.50318070e-01,  2.54274163e+00],\n",
       "       [ 3.90112223e-01,  2.61922228e+00],\n",
       "       [ 4.21577801e-01,  3.03598171e+00],\n",
       "       [ 5.42293260e-01,  3.15210151e+00],\n",
       "       [ 5.57245152e-01,  3.64791183e+00],\n",
       "       [ 5.75167337e-01,  3.82137947e+00],\n",
       "       [ 5.87625766e-01,  3.92823324e+00],\n",
       "       [ 6.66986415e-01,  3.94813009e+00],\n",
       "       [ 6.89635655e-01,  4.10237903e+00],\n",
       "       [ 7.55262345e-01,  4.31138515e+00],\n",
       "       [ 8.00536622e-01,  4.38116405e+00],\n",
       "       [ 8.19046792e-01,  5.05604118e+00],\n",
       "       [ 8.70228415e-01,  5.23277593e+00],\n",
       "       [ 8.77099929e-01,  5.48627684e+00],\n",
       "       [ 9.45182721e-01,  5.96104600e+00],\n",
       "       [ 1.01863510e+00,  6.21898555e+00],\n",
       "       [ 1.07212499e+00,  6.27212645e+00],\n",
       "       [ 1.07428845e+00,  6.50195864e+00],\n",
       "       [ 1.23031428e+00,  6.55751672e+00],\n",
       "       [ 1.28398499e+00,  7.17253210e+00],\n",
       "       [ 1.31116526e+00,  7.49870473e+00],\n",
       "       [ 1.36236712e+00,  7.90308353e+00],\n",
       "       [ 1.43647646e+00,  8.08917076e+00],\n",
       "       [ 1.55757783e+00,  8.16943940e+00],\n",
       "       [ 1.63663213e+00,  8.67107745e+00],\n",
       "       [ 1.68214845e+00,  9.31499980e+00],\n",
       "       [ 2.45693085e+00,  1.31255787e+01]])"
      ]
     },
     "execution_count": 81,
     "metadata": {},
     "output_type": "execute_result"
    }
   ],
   "source": [
    "data = np.stack((x,y),axis = 1)\n",
    "data"
   ]
  },
  {
   "cell_type": "code",
   "execution_count": 82,
   "id": "54e39481",
   "metadata": {},
   "outputs": [],
   "source": [
    "from scipy.linalg import svd"
   ]
  },
  {
   "cell_type": "code",
   "execution_count": 83,
   "id": "37bb6067",
   "metadata": {},
   "outputs": [],
   "source": [
    "U,S,VT = svd(data)"
   ]
  },
  {
   "cell_type": "code",
   "execution_count": 84,
   "id": "017b3634",
   "metadata": {},
   "outputs": [
    {
     "data": {
      "text/plain": [
       "((100, 100), (2,), (2, 2))"
      ]
     },
     "execution_count": 84,
     "metadata": {},
     "output_type": "execute_result"
    }
   ],
   "source": [
    "U.shape , S.shape, VT.shape"
   ]
  },
  {
   "cell_type": "code",
   "execution_count": 85,
   "id": "a2ae5203",
   "metadata": {},
   "outputs": [],
   "source": [
    "sigma = np.zeros((data.shape))"
   ]
  },
  {
   "cell_type": "code",
   "execution_count": 86,
   "id": "07587340",
   "metadata": {},
   "outputs": [],
   "source": [
    "for i in range(len(S)):\n",
    "    sigma[i,i] = S[i]\n"
   ]
  },
  {
   "cell_type": "code",
   "execution_count": 87,
   "id": "234ed73f",
   "metadata": {},
   "outputs": [
    {
     "data": {
      "text/plain": [
       "array([[-2.47979952e+00, -1.50480836e+01],\n",
       "       [-2.33003778e+00, -1.09400692e+01],\n",
       "       [-2.16213152e+00, -9.72669415e+00],\n",
       "       [-2.04652132e+00, -8.62349316e+00],\n",
       "       [-1.97589305e+00, -7.80388489e+00],\n",
       "       [-1.95187020e+00, -6.67653139e+00],\n",
       "       [-1.46250710e+00, -6.18867930e+00],\n",
       "       [-1.46144520e+00, -5.92758041e+00],\n",
       "       [-1.43136064e+00, -5.90347107e+00],\n",
       "       [-1.38199095e+00, -5.72956209e+00],\n",
       "       [-1.37728964e+00, -5.65826754e+00],\n",
       "       [-1.24360035e+00, -5.50737324e+00],\n",
       "       [-1.17211323e+00, -5.31777741e+00],\n",
       "       [-1.16009016e+00, -4.99207504e+00],\n",
       "       [-1.12804091e+00, -4.89939331e+00],\n",
       "       [-1.03155210e+00, -4.62782605e+00],\n",
       "       [-9.33871686e-01, -4.57882395e+00],\n",
       "       [-9.31648628e-01, -4.50907277e+00],\n",
       "       [-8.97231283e-01, -4.47516669e+00],\n",
       "       [-8.83338908e-01, -4.40074660e+00],\n",
       "       [-8.62411161e-01, -4.36286609e+00],\n",
       "       [-8.43164010e-01, -4.34336855e+00],\n",
       "       [-8.25877632e-01, -4.14219126e+00],\n",
       "       [-8.07829983e-01, -4.04059688e+00],\n",
       "       [-7.95459074e-01, -4.01373531e+00],\n",
       "       [-7.93684698e-01, -3.66098097e+00],\n",
       "       [-7.65035992e-01, -3.59718770e+00],\n",
       "       [-7.64723550e-01, -3.38050304e+00],\n",
       "       [-7.59088509e-01, -3.28531094e+00],\n",
       "       [-7.54522641e-01, -3.27587287e+00],\n",
       "       [-7.00548891e-01, -3.19610214e+00],\n",
       "       [-6.79891357e-01, -3.09397283e+00],\n",
       "       [-6.79049874e-01, -3.05852675e+00],\n",
       "       [-6.23718267e-01, -2.84146866e+00],\n",
       "       [-6.12552237e-01, -2.70905320e+00],\n",
       "       [-5.58534560e-01, -2.51172628e+00],\n",
       "       [-5.26068038e-01, -2.19953476e+00],\n",
       "       [-4.83148311e-01, -1.94705425e+00],\n",
       "       [-4.73037794e-01, -1.84031653e+00],\n",
       "       [-4.36324129e-01, -1.77529464e+00],\n",
       "       [-4.29634327e-01, -1.63681410e+00],\n",
       "       [-3.71729193e-01, -1.43860690e+00],\n",
       "       [-3.57253166e-01, -1.25004867e+00],\n",
       "       [-2.95169677e-01, -1.04941584e+00],\n",
       "       [-2.82791940e-01, -7.80320442e-01],\n",
       "       [-2.45210244e-01, -7.31773725e-01],\n",
       "       [-2.32342042e-01, -6.51002089e-01],\n",
       "       [-2.30868355e-01, -6.47743277e-01],\n",
       "       [-2.04967742e-01, -5.51961401e-01],\n",
       "       [-1.95264217e-01, -5.18538979e-01],\n",
       "       [-1.72160758e-01, -4.41723869e-01],\n",
       "       [-1.12454350e-01, -4.10996901e-01],\n",
       "       [-1.01371728e-01, -2.23444208e-01],\n",
       "       [-5.44208362e-02, -1.47034728e-01],\n",
       "       [-5.35415916e-02, -1.29990346e-01],\n",
       "       [-4.07166301e-02, -1.00604066e-01],\n",
       "       [ 8.01291452e-03,  4.71176567e-02],\n",
       "       [ 1.70681162e-02,  2.59389181e-01],\n",
       "       [ 2.30739393e-02,  3.69234963e-01],\n",
       "       [ 6.24606658e-02,  7.23063989e-01],\n",
       "       [ 6.82708719e-02,  1.02018933e+00],\n",
       "       [ 6.91692282e-02,  1.20248881e+00],\n",
       "       [ 7.73623955e-02,  1.47297067e+00],\n",
       "       [ 7.78537005e-02,  1.78871063e+00],\n",
       "       [ 8.20154458e-02,  1.79317903e+00],\n",
       "       [ 8.28730478e-02,  1.91455543e+00],\n",
       "       [ 9.03811102e-02,  2.01381000e+00],\n",
       "       [ 9.72207719e-02,  2.05157650e+00],\n",
       "       [ 1.66974134e-01,  2.14353489e+00],\n",
       "       [ 1.72398757e-01,  2.19414471e+00],\n",
       "       [ 1.73491558e-01,  2.26128253e+00],\n",
       "       [ 2.17849580e-01,  2.41233419e+00],\n",
       "       [ 2.55404041e-01,  2.48750893e+00],\n",
       "       [ 3.50318070e-01,  2.54274163e+00],\n",
       "       [ 3.90112223e-01,  2.61922228e+00],\n",
       "       [ 4.21577801e-01,  3.03598171e+00],\n",
       "       [ 5.42293260e-01,  3.15210151e+00],\n",
       "       [ 5.57245152e-01,  3.64791183e+00],\n",
       "       [ 5.75167337e-01,  3.82137947e+00],\n",
       "       [ 5.87625766e-01,  3.92823324e+00],\n",
       "       [ 6.66986415e-01,  3.94813009e+00],\n",
       "       [ 6.89635655e-01,  4.10237903e+00],\n",
       "       [ 7.55262345e-01,  4.31138515e+00],\n",
       "       [ 8.00536622e-01,  4.38116405e+00],\n",
       "       [ 8.19046792e-01,  5.05604118e+00],\n",
       "       [ 8.70228415e-01,  5.23277593e+00],\n",
       "       [ 8.77099929e-01,  5.48627684e+00],\n",
       "       [ 9.45182721e-01,  5.96104600e+00],\n",
       "       [ 1.01863510e+00,  6.21898555e+00],\n",
       "       [ 1.07212499e+00,  6.27212645e+00],\n",
       "       [ 1.07428845e+00,  6.50195864e+00],\n",
       "       [ 1.23031428e+00,  6.55751672e+00],\n",
       "       [ 1.28398499e+00,  7.17253210e+00],\n",
       "       [ 1.31116526e+00,  7.49870473e+00],\n",
       "       [ 1.36236712e+00,  7.90308353e+00],\n",
       "       [ 1.43647646e+00,  8.08917076e+00],\n",
       "       [ 1.55757783e+00,  8.16943940e+00],\n",
       "       [ 1.63663213e+00,  8.67107745e+00],\n",
       "       [ 1.68214845e+00,  9.31499980e+00],\n",
       "       [ 2.45693085e+00,  1.31255787e+01]])"
      ]
     },
     "execution_count": 87,
     "metadata": {},
     "output_type": "execute_result"
    }
   ],
   "source": [
    "A = U @ sigma @ VT\n",
    "A"
   ]
  },
  {
   "cell_type": "code",
   "execution_count": 89,
   "id": "0420deff",
   "metadata": {},
   "outputs": [],
   "source": [
    "v1 = VT[0]\n",
    "v2 = VT[1]"
   ]
  },
  {
   "cell_type": "code",
   "execution_count": 90,
   "id": "23eb0fcc",
   "metadata": {},
   "outputs": [],
   "source": [
    "s1 = S[0]\n",
    "s2 = S[1]"
   ]
  },
  {
   "cell_type": "code",
   "execution_count": 91,
   "id": "e666237d",
   "metadata": {},
   "outputs": [
    {
     "data": {
      "text/plain": [
       "np.float64(0.0)"
      ]
     },
     "execution_count": 91,
     "metadata": {},
     "output_type": "execute_result"
    }
   ],
   "source": [
    "np.inner(v1,v2)"
   ]
  },
  {
   "cell_type": "code",
   "execution_count": 92,
   "id": "1812242e",
   "metadata": {},
   "outputs": [
    {
     "data": {
      "text/plain": [
       "np.float64(1.0)"
      ]
     },
     "execution_count": 92,
     "metadata": {},
     "output_type": "execute_result"
    }
   ],
   "source": [
    "np.linalg.norm(v1)"
   ]
  },
  {
   "cell_type": "code",
   "execution_count": 93,
   "id": "79d2d073",
   "metadata": {},
   "outputs": [
    {
     "data": {
      "text/plain": [
       "np.float64(1.0)"
      ]
     },
     "execution_count": 93,
     "metadata": {},
     "output_type": "execute_result"
    }
   ],
   "source": [
    "np.linalg.norm(v2)"
   ]
  },
  {
   "cell_type": "code",
   "execution_count": 94,
   "id": "f52e81e4",
   "metadata": {},
   "outputs": [],
   "source": [
    "start = np.array([0,0])"
   ]
  },
  {
   "cell_type": "code",
   "execution_count": null,
   "id": "aa3147a6",
   "metadata": {},
   "outputs": [
    {
     "data": {
      "image/png": "[encoded data removed]",
      "text/plain": [
       "<Figure size 640x480 with 1 Axes>"
      ]
     },
     "metadata": {},
     "output_type": "display_data"
    }
   ],
   "source": [
    "ax = plt.axes()\n",
    "ax.set_xlim(-2,2)\n",
    "ax.set_ylim(-2,2)\n",
    "ax.grid(True)\n",
    "\n",
    "ax.scatter(x,y)\n",
    "\n",
    "ax.quiver(*start,*v1,scale=1,angles = 'xy', scale_units = 'xy',color = 'red')\n",
    "ax.quiver(*start,*v2,scale=1,angles = 'xy', scale_units = 'xy',color = 'blue')\n",
    "\n",
    "plt.show()"
   ]
  }
 ],
 "metadata": {
  "kernelspec": {
   "display_name": "venv3.12",
   "language": "python",
   "name": "python3"
  },
  "language_info": {
   "codemirror_mode": {
    "name": "ipython",
    "version": 3
   },
   "file_extension": ".py",
   "mimetype": "text/x-python",
   "name": "python",
   "nbconvert_exporter": "python",
   "pygments_lexer": "ipython3",
   "version": "3.12.5"
  }
 },
 "nbformat": 4,
 "nbformat_minor": 5
}
