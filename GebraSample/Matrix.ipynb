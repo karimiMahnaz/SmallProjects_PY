{
 "cells": [
  {
   "cell_type": "code",
   "execution_count": 81,
   "id": "8ce353a8",
   "metadata": {},
   "outputs": [],
   "source": [
    "import numpy as np"
   ]
  },
  {
   "cell_type": "code",
   "execution_count": 82,
   "id": "c1d3b1ff",
   "metadata": {},
   "outputs": [],
   "source": [
    "A = np.array([[2,5,1],[4,2,0],[1,0,2]])\n",
    "ans = np.array([3,-1,4])"
   ]
  },
  {
   "cell_type": "code",
   "execution_count": 83,
   "id": "a305a9ca",
   "metadata": {},
   "outputs": [],
   "source": [
    "A_inv = np.linalg.inv(A)"
   ]
  },
  {
   "cell_type": "code",
   "execution_count": 84,
   "id": "947bf7e3",
   "metadata": {},
   "outputs": [],
   "source": [
    "X = np.matmul(A_inv,ans)"
   ]
  },
  {
   "cell_type": "code",
   "execution_count": 85,
   "id": "512bf712",
   "metadata": {},
   "outputs": [],
   "source": [
    "x,y,z = X"
   ]
  },
  {
   "cell_type": "code",
   "execution_count": 86,
   "id": "1836b85a",
   "metadata": {},
   "outputs": [
    {
     "data": {
      "text/plain": [
       "np.float64(-0.41176470588235287)"
      ]
     },
     "execution_count": 86,
     "metadata": {},
     "output_type": "execute_result"
    }
   ],
   "source": [
    "x"
   ]
  },
  {
   "cell_type": "code",
   "execution_count": 87,
   "id": "e2d3ef74",
   "metadata": {},
   "outputs": [
    {
     "data": {
      "text/plain": [
       "np.float64(0.32352941176470584)"
      ]
     },
     "execution_count": 87,
     "metadata": {},
     "output_type": "execute_result"
    }
   ],
   "source": [
    "y"
   ]
  },
  {
   "cell_type": "code",
   "execution_count": 88,
   "id": "f77c29c7",
   "metadata": {},
   "outputs": [
    {
     "data": {
      "text/plain": [
       "np.float64(2.2058823529411766)"
      ]
     },
     "execution_count": 88,
     "metadata": {},
     "output_type": "execute_result"
    }
   ],
   "source": [
    "z"
   ]
  },
  {
   "cell_type": "code",
   "execution_count": 89,
   "id": "17a1522c",
   "metadata": {},
   "outputs": [
    {
     "data": {
      "text/plain": [
       "np.float64(3.0)"
      ]
     },
     "execution_count": 89,
     "metadata": {},
     "output_type": "execute_result"
    }
   ],
   "source": [
    "2*x + 5*y + z"
   ]
  },
  {
   "cell_type": "code",
   "execution_count": 90,
   "id": "7aaf405b",
   "metadata": {},
   "outputs": [
    {
     "data": {
      "text/plain": [
       "np.float64(-0.9999999999999998)"
      ]
     },
     "execution_count": 90,
     "metadata": {},
     "output_type": "execute_result"
    }
   ],
   "source": [
    "4*x + 2*y + 0*z"
   ]
  },
  {
   "cell_type": "code",
   "execution_count": 91,
   "id": "3f65928a",
   "metadata": {},
   "outputs": [
    {
     "data": {
      "text/plain": [
       "np.float64(4.0)"
      ]
     },
     "execution_count": 91,
     "metadata": {},
     "output_type": "execute_result"
    }
   ],
   "source": [
    "x + 0*y + 2*z"
   ]
  },
  {
   "cell_type": "code",
   "execution_count": 92,
   "id": "cdf3799c",
   "metadata": {},
   "outputs": [
    {
     "data": {
      "text/plain": [
       "array([[2, 5, 1],\n",
       "       [4, 2, 0],\n",
       "       [1, 0, 2]])"
      ]
     },
     "execution_count": 92,
     "metadata": {},
     "output_type": "execute_result"
    }
   ],
   "source": [
    "A"
   ]
  },
  {
   "cell_type": "code",
   "execution_count": 93,
   "id": "cb2c1408",
   "metadata": {},
   "outputs": [],
   "source": [
    "AT = A.T"
   ]
  },
  {
   "cell_type": "code",
   "execution_count": 94,
   "id": "f40f6843",
   "metadata": {},
   "outputs": [
    {
     "data": {
      "text/plain": [
       "array([[2, 4, 1],\n",
       "       [5, 2, 0],\n",
       "       [1, 0, 2]])"
      ]
     },
     "execution_count": 94,
     "metadata": {},
     "output_type": "execute_result"
    }
   ],
   "source": [
    "AT"
   ]
  },
  {
   "cell_type": "code",
   "execution_count": 95,
   "id": "bee44c1f",
   "metadata": {},
   "outputs": [
    {
     "data": {
      "text/plain": [
       "array([[21, 18,  4],\n",
       "       [18, 29,  5],\n",
       "       [ 4,  5,  5]])"
      ]
     },
     "execution_count": 95,
     "metadata": {},
     "output_type": "execute_result"
    }
   ],
   "source": [
    "s = AT.dot(A)\n",
    "\n",
    "s"
   ]
  },
  {
   "cell_type": "code",
   "execution_count": 101,
   "id": "e99f9d3b",
   "metadata": {},
   "outputs": [],
   "source": [
    "L, V = np.linalg.eig(s)"
   ]
  },
  {
   "cell_type": "code",
   "execution_count": 105,
   "id": "52a882a6",
   "metadata": {},
   "outputs": [
    {
     "data": {
      "text/plain": [
       "array([44.47764949,  6.56093793,  3.96141259])"
      ]
     },
     "execution_count": 105,
     "metadata": {},
     "output_type": "execute_result"
    }
   ],
   "source": [
    "L"
   ]
  },
  {
   "cell_type": "code",
   "execution_count": 106,
   "id": "4d8dcb00",
   "metadata": {},
   "outputs": [
    {
     "data": {
      "text/plain": [
       "array([[ 0.61762773,  0.78038207, -0.09767197],\n",
       "       [ 0.7700018 , -0.62529496, -0.12689933],\n",
       "       [ 0.16010376, -0.00316895,  0.9870951 ]])"
      ]
     },
     "execution_count": 106,
     "metadata": {},
     "output_type": "execute_result"
    }
   ],
   "source": [
    "V"
   ]
  },
  {
   "cell_type": "code",
   "execution_count": 107,
   "id": "37dbbc69",
   "metadata": {},
   "outputs": [],
   "source": [
    "s1, s2, s3 = np.sqrt(L)"
   ]
  },
  {
   "cell_type": "code",
   "execution_count": 109,
   "id": "b268ec3a",
   "metadata": {},
   "outputs": [
    {
     "data": {
      "text/plain": [
       "(np.float64(6.669156579846179),\n",
       " np.float64(2.561432787657188),\n",
       " np.float64(1.9903297686084898))"
      ]
     },
     "execution_count": 109,
     "metadata": {},
     "output_type": "execute_result"
    }
   ],
   "source": [
    "s1 , s2, s3"
   ]
  }
 ],
 "metadata": {
  "kernelspec": {
   "display_name": "venv3.12",
   "language": "python",
   "name": "python3"
  },
  "language_info": {
   "codemirror_mode": {
    "name": "ipython",
    "version": 3
   },
   "file_extension": ".py",
   "mimetype": "text/x-python",
   "name": "python",
   "nbconvert_exporter": "python",
   "pygments_lexer": "ipython3",
   "version": "3.12.5"
  }
 },
 "nbformat": 4,
 "nbformat_minor": 5
}
