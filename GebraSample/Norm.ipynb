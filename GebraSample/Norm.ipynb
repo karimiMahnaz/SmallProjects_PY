{
 "cells": [
  {
   "cell_type": "code",
   "execution_count": 1,
   "id": "4b695f6d",
   "metadata": {},
   "outputs": [],
   "source": [
    "import numpy as np"
   ]
  },
  {
   "cell_type": "code",
   "execution_count": 2,
   "id": "4ef91330",
   "metadata": {},
   "outputs": [],
   "source": [
    "v = np.array([5,2,3])"
   ]
  },
  {
   "cell_type": "code",
   "execution_count": 3,
   "id": "c0182e2d",
   "metadata": {},
   "outputs": [
    {
     "data": {
      "text/plain": [
       "10.0"
      ]
     },
     "execution_count": 3,
     "metadata": {},
     "output_type": "execute_result"
    }
   ],
   "source": [
    "np.linalg.norm(v,1)"
   ]
  },
  {
   "cell_type": "code",
   "execution_count": 4,
   "id": "6131f537",
   "metadata": {},
   "outputs": [
    {
     "data": {
      "text/plain": [
       "6.164414002968976"
      ]
     },
     "execution_count": 4,
     "metadata": {},
     "output_type": "execute_result"
    }
   ],
   "source": [
    "np.linalg.norm(v,2)"
   ]
  },
  {
   "cell_type": "code",
   "execution_count": 5,
   "id": "cf98c352",
   "metadata": {},
   "outputs": [
    {
     "data": {
      "text/plain": [
       "6.164414002968976"
      ]
     },
     "execution_count": 5,
     "metadata": {},
     "output_type": "execute_result"
    }
   ],
   "source": [
    "(5**2 + 2**2 + 3**2)**0.5"
   ]
  },
  {
   "cell_type": "code",
   "execution_count": 6,
   "id": "71623ed2",
   "metadata": {},
   "outputs": [
    {
     "data": {
      "text/plain": [
       "3.0"
      ]
     },
     "execution_count": 6,
     "metadata": {},
     "output_type": "execute_result"
    }
   ],
   "source": [
    "np.linalg.norm(v,0)"
   ]
  },
  {
   "cell_type": "code",
   "execution_count": 11,
   "id": "2c9a6d0f",
   "metadata": {},
   "outputs": [],
   "source": [
    "v = np.array([0,2,3,1,0])"
   ]
  },
  {
   "cell_type": "code",
   "execution_count": 12,
   "id": "47a1724c",
   "metadata": {},
   "outputs": [
    {
     "data": {
      "text/plain": [
       "3.0"
      ]
     },
     "execution_count": 12,
     "metadata": {},
     "output_type": "execute_result"
    }
   ],
   "source": [
    "np.linalg.norm(v,0)"
   ]
  },
  {
   "cell_type": "code",
   "execution_count": null,
   "id": "9f04d6a6",
   "metadata": {},
   "outputs": [],
   "source": []
  }
 ],
 "metadata": {
  "kernelspec": {
   "display_name": "Python 3 (ipykernel)",
   "language": "python",
   "name": "python3"
  },
  "language_info": {
   "codemirror_mode": {
    "name": "ipython",
    "version": 3
   },
   "file_extension": ".py",
   "mimetype": "text/x-python",
   "name": "python",
   "nbconvert_exporter": "python",
   "pygments_lexer": "ipython3",
   "version": "3.9.12"
  }
 },
 "nbformat": 4,
 "nbformat_minor": 5
}
